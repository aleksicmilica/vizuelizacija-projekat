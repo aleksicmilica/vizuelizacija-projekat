{
 "cells": [
  {
   "cell_type": "code",
   "execution_count": 6,
   "id": "b5c6e8e3-d861-4878-9816-45227f8c11b6",
   "metadata": {},
   "outputs": [
    {
     "ename": "AttributeError",
     "evalue": "unexpected attribute 'plot_width' to figure, similar attributes are outer_width, width or min_width",
     "output_type": "error",
     "traceback": [
      "\u001b[1;31m---------------------------------------------------------------------------\u001b[0m",
      "\u001b[1;31mAttributeError\u001b[0m                            Traceback (most recent call last)",
      "Cell \u001b[1;32mIn[6], line 31\u001b[0m\n\u001b[0;32m     22\u001b[0m     scatter_fig \u001b[38;5;241m=\u001b[39m wine_df\u001b[38;5;241m.\u001b[39mplot_bokeh\u001b[38;5;241m.\u001b[39mscatter(x\u001b[38;5;241m=\u001b[39mx_axis, y\u001b[38;5;241m=\u001b[39my_axis, xlabel\u001b[38;5;241m=\u001b[39mx_axis\u001b[38;5;241m.\u001b[39mcapitalize(), ylabel\u001b[38;5;241m=\u001b[39my_axis\u001b[38;5;241m.\u001b[39mcapitalize(), category\u001b[38;5;241m=\u001b[39m\u001b[38;5;124m\"\u001b[39m\u001b[38;5;124mWineType\u001b[39m\u001b[38;5;124m\"\u001b[39m \u001b[38;5;28;01mif\u001b[39;00m color_encode \u001b[38;5;28;01melse\u001b[39;00m \u001b[38;5;28;01mNone\u001b[39;00m,\n\u001b[0;32m     23\u001b[0m                                          title\u001b[38;5;241m=\u001b[39m\u001b[38;5;124m\"\u001b[39m\u001b[38;5;132;01m{}\u001b[39;00m\u001b[38;5;124m vs \u001b[39m\u001b[38;5;132;01m{}\u001b[39;00m\u001b[38;5;124m\"\u001b[39m\u001b[38;5;241m.\u001b[39mformat(x_axis\u001b[38;5;241m.\u001b[39mcapitalize(), y_axis\u001b[38;5;241m.\u001b[39mcapitalize()),\n\u001b[0;32m     24\u001b[0m                                          figsize\u001b[38;5;241m=\u001b[39m(\u001b[38;5;241m650\u001b[39m,\u001b[38;5;241m500\u001b[39m),\n\u001b[0;32m     25\u001b[0m                                          fontsize_title\u001b[38;5;241m=\u001b[39m \u001b[38;5;241m20\u001b[39m, fontsize_label\u001b[38;5;241m=\u001b[39m\u001b[38;5;241m12\u001b[39m, show_figure\u001b[38;5;241m=\u001b[39m\u001b[38;5;28;01mFalse\u001b[39;00m)\n\u001b[0;32m     26\u001b[0m     \u001b[38;5;28;01mreturn\u001b[39;00m scatter_fig\n\u001b[0;32m     28\u001b[0m first_chart \u001b[38;5;241m=\u001b[39m pn\u001b[38;5;241m.\u001b[39mColumn(\n\u001b[0;32m     29\u001b[0m                         pn\u001b[38;5;241m.\u001b[39mRow(x_axis, y_axis),\n\u001b[0;32m     30\u001b[0m                         color_encode,\n\u001b[1;32m---> 31\u001b[0m                         \u001b[43mcreate_scatter_chart\u001b[49m\u001b[43m(\u001b[49m\u001b[43m)\u001b[49m\n\u001b[0;32m     32\u001b[0m                     )\n\u001b[0;32m     34\u001b[0m \u001b[38;5;28;01mdef\u001b[39;00m \u001b[38;5;21mupdate_scatter_chart\u001b[39m(event):\n\u001b[0;32m     35\u001b[0m     first_chart[\u001b[38;5;241m2\u001b[39m]\u001b[38;5;241m.\u001b[39mobject \u001b[38;5;241m=\u001b[39m create_scatter_chart(x_axis\u001b[38;5;241m.\u001b[39mvalue, y_axis\u001b[38;5;241m.\u001b[39mvalue, color_encode\u001b[38;5;241m.\u001b[39mvalue)\n",
      "Cell \u001b[1;32mIn[6], line 22\u001b[0m, in \u001b[0;36mcreate_scatter_chart\u001b[1;34m(x_axis, y_axis, color_encode)\u001b[0m\n\u001b[0;32m     21\u001b[0m \u001b[38;5;28;01mdef\u001b[39;00m \u001b[38;5;21mcreate_scatter_chart\u001b[39m(x_axis\u001b[38;5;241m=\u001b[39m\u001b[38;5;124m\"\u001b[39m\u001b[38;5;124malcohol\u001b[39m\u001b[38;5;124m\"\u001b[39m, y_axis\u001b[38;5;241m=\u001b[39m\u001b[38;5;124m\"\u001b[39m\u001b[38;5;124mmalic_acid\u001b[39m\u001b[38;5;124m\"\u001b[39m, color_encode\u001b[38;5;241m=\u001b[39m\u001b[38;5;28;01mFalse\u001b[39;00m):\n\u001b[1;32m---> 22\u001b[0m     scatter_fig \u001b[38;5;241m=\u001b[39m \u001b[43mwine_df\u001b[49m\u001b[38;5;241;43m.\u001b[39;49m\u001b[43mplot_bokeh\u001b[49m\u001b[38;5;241;43m.\u001b[39;49m\u001b[43mscatter\u001b[49m\u001b[43m(\u001b[49m\u001b[43mx\u001b[49m\u001b[38;5;241;43m=\u001b[39;49m\u001b[43mx_axis\u001b[49m\u001b[43m,\u001b[49m\u001b[43m \u001b[49m\u001b[43my\u001b[49m\u001b[38;5;241;43m=\u001b[39;49m\u001b[43my_axis\u001b[49m\u001b[43m,\u001b[49m\u001b[43m \u001b[49m\u001b[43mxlabel\u001b[49m\u001b[38;5;241;43m=\u001b[39;49m\u001b[43mx_axis\u001b[49m\u001b[38;5;241;43m.\u001b[39;49m\u001b[43mcapitalize\u001b[49m\u001b[43m(\u001b[49m\u001b[43m)\u001b[49m\u001b[43m,\u001b[49m\u001b[43m \u001b[49m\u001b[43mylabel\u001b[49m\u001b[38;5;241;43m=\u001b[39;49m\u001b[43my_axis\u001b[49m\u001b[38;5;241;43m.\u001b[39;49m\u001b[43mcapitalize\u001b[49m\u001b[43m(\u001b[49m\u001b[43m)\u001b[49m\u001b[43m,\u001b[49m\u001b[43m \u001b[49m\u001b[43mcategory\u001b[49m\u001b[38;5;241;43m=\u001b[39;49m\u001b[38;5;124;43m\"\u001b[39;49m\u001b[38;5;124;43mWineType\u001b[39;49m\u001b[38;5;124;43m\"\u001b[39;49m\u001b[43m \u001b[49m\u001b[38;5;28;43;01mif\u001b[39;49;00m\u001b[43m \u001b[49m\u001b[43mcolor_encode\u001b[49m\u001b[43m \u001b[49m\u001b[38;5;28;43;01melse\u001b[39;49;00m\u001b[43m \u001b[49m\u001b[38;5;28;43;01mNone\u001b[39;49;00m\u001b[43m,\u001b[49m\n\u001b[0;32m     23\u001b[0m \u001b[43m                                         \u001b[49m\u001b[43mtitle\u001b[49m\u001b[38;5;241;43m=\u001b[39;49m\u001b[38;5;124;43m\"\u001b[39;49m\u001b[38;5;132;43;01m{}\u001b[39;49;00m\u001b[38;5;124;43m vs \u001b[39;49m\u001b[38;5;132;43;01m{}\u001b[39;49;00m\u001b[38;5;124;43m\"\u001b[39;49m\u001b[38;5;241;43m.\u001b[39;49m\u001b[43mformat\u001b[49m\u001b[43m(\u001b[49m\u001b[43mx_axis\u001b[49m\u001b[38;5;241;43m.\u001b[39;49m\u001b[43mcapitalize\u001b[49m\u001b[43m(\u001b[49m\u001b[43m)\u001b[49m\u001b[43m,\u001b[49m\u001b[43m \u001b[49m\u001b[43my_axis\u001b[49m\u001b[38;5;241;43m.\u001b[39;49m\u001b[43mcapitalize\u001b[49m\u001b[43m(\u001b[49m\u001b[43m)\u001b[49m\u001b[43m)\u001b[49m\u001b[43m,\u001b[49m\n\u001b[0;32m     24\u001b[0m \u001b[43m                                         \u001b[49m\u001b[43mfigsize\u001b[49m\u001b[38;5;241;43m=\u001b[39;49m\u001b[43m(\u001b[49m\u001b[38;5;241;43m650\u001b[39;49m\u001b[43m,\u001b[49m\u001b[38;5;241;43m500\u001b[39;49m\u001b[43m)\u001b[49m\u001b[43m,\u001b[49m\n\u001b[0;32m     25\u001b[0m \u001b[43m                                         \u001b[49m\u001b[43mfontsize_title\u001b[49m\u001b[38;5;241;43m=\u001b[39;49m\u001b[43m \u001b[49m\u001b[38;5;241;43m20\u001b[39;49m\u001b[43m,\u001b[49m\u001b[43m \u001b[49m\u001b[43mfontsize_label\u001b[49m\u001b[38;5;241;43m=\u001b[39;49m\u001b[38;5;241;43m12\u001b[39;49m\u001b[43m,\u001b[49m\u001b[43m \u001b[49m\u001b[43mshow_figure\u001b[49m\u001b[38;5;241;43m=\u001b[39;49m\u001b[38;5;28;43;01mFalse\u001b[39;49;00m\u001b[43m)\u001b[49m\n\u001b[0;32m     26\u001b[0m     \u001b[38;5;28;01mreturn\u001b[39;00m scatter_fig\n",
      "File \u001b[1;32mD:\\Users\\aleks\\miniconda3\\lib\\site-packages\\pandas_bokeh\\plot.py:2339\u001b[0m, in \u001b[0;36mFramePlotMethods.scatter\u001b[1;34m(self, x, y, category, **kwds)\u001b[0m\n\u001b[0;32m   2277\u001b[0m \u001b[38;5;28;01mdef\u001b[39;00m \u001b[38;5;21mscatter\u001b[39m(\u001b[38;5;28mself\u001b[39m, x, y, category\u001b[38;5;241m=\u001b[39m\u001b[38;5;28;01mNone\u001b[39;00m, \u001b[38;5;241m*\u001b[39m\u001b[38;5;241m*\u001b[39mkwds):\n\u001b[0;32m   2278\u001b[0m \u001b[38;5;250m    \u001b[39m\u001b[38;5;124;03m\"\"\"\u001b[39;00m\n\u001b[0;32m   2279\u001b[0m \u001b[38;5;124;03m    Create a scatter plot with varying marker color.\u001b[39;00m\n\u001b[0;32m   2280\u001b[0m \n\u001b[1;32m   (...)\u001b[0m\n\u001b[0;32m   2337\u001b[0m \u001b[38;5;124;03m        ...                       colormap='viridis')\u001b[39;00m\n\u001b[0;32m   2338\u001b[0m \u001b[38;5;124;03m    \"\"\"\u001b[39;00m\n\u001b[1;32m-> 2339\u001b[0m     \u001b[38;5;28;01mreturn\u001b[39;00m \u001b[38;5;28mself\u001b[39m(kind\u001b[38;5;241m=\u001b[39m\u001b[38;5;124m\"\u001b[39m\u001b[38;5;124mscatter\u001b[39m\u001b[38;5;124m\"\u001b[39m, x\u001b[38;5;241m=\u001b[39mx, y\u001b[38;5;241m=\u001b[39my, category\u001b[38;5;241m=\u001b[39mcategory, \u001b[38;5;241m*\u001b[39m\u001b[38;5;241m*\u001b[39mkwds)\n",
      "File \u001b[1;32mD:\\Users\\aleks\\miniconda3\\lib\\site-packages\\pandas_bokeh\\plot.py:1785\u001b[0m, in \u001b[0;36mFramePlotMethods.__call__\u001b[1;34m(self, *args, **kwargs)\u001b[0m\n\u001b[0;32m   1784\u001b[0m \u001b[38;5;28;01mdef\u001b[39;00m \u001b[38;5;21m__call__\u001b[39m(\u001b[38;5;28mself\u001b[39m, \u001b[38;5;241m*\u001b[39margs, \u001b[38;5;241m*\u001b[39m\u001b[38;5;241m*\u001b[39mkwargs):\n\u001b[1;32m-> 1785\u001b[0m     \u001b[38;5;28;01mreturn\u001b[39;00m plot(\u001b[38;5;28mself\u001b[39m\u001b[38;5;241m.\u001b[39mdf, \u001b[38;5;241m*\u001b[39margs, \u001b[38;5;241m*\u001b[39m\u001b[38;5;241m*\u001b[39mkwargs)\n",
      "File \u001b[1;32mD:\\Users\\aleks\\miniconda3\\lib\\site-packages\\pandas_bokeh\\plot.py:439\u001b[0m, in \u001b[0;36mplot\u001b[1;34m(df_in, x, y, kind, figsize, use_index, title, legend, logx, logy, xlabel, ylabel, xticks, yticks, xlim, ylim, fontsize_title, fontsize_label, fontsize_ticks, fontsize_legend, color, colormap, category, histogram_type, stacked, weights, bins, normed, cumulative, show_average, plot_data_points, plot_data_points_size, number_format, disable_scientific_axes, show_figure, return_html, panning, zooming, sizing_mode, toolbar_location, hovertool, hovertool_string, rangetool, vertical_xlabel, x_axis_location, webgl, reuse_plot, **kwargs)\u001b[0m\n\u001b[0;32m    432\u001b[0m     xlabelname \u001b[38;5;241m=\u001b[39m (\n\u001b[0;32m    433\u001b[0m         figure_options[\u001b[38;5;124m\"\u001b[39m\u001b[38;5;124mx_axis_label\u001b[39m\u001b[38;5;124m\"\u001b[39m]\n\u001b[0;32m    434\u001b[0m         \u001b[38;5;28;01mif\u001b[39;00m figure_options\u001b[38;5;241m.\u001b[39mget(\u001b[38;5;124m\"\u001b[39m\u001b[38;5;124mx_axis_label\u001b[39m\u001b[38;5;124m\"\u001b[39m, \u001b[38;5;124m\"\u001b[39m\u001b[38;5;124m\"\u001b[39m) \u001b[38;5;241m!=\u001b[39m \u001b[38;5;124m\"\u001b[39m\u001b[38;5;124m\"\u001b[39m\n\u001b[0;32m    435\u001b[0m         \u001b[38;5;28;01melse\u001b[39;00m \u001b[38;5;124m\"\u001b[39m\u001b[38;5;124mx\u001b[39m\u001b[38;5;124m\"\u001b[39m\n\u001b[0;32m    436\u001b[0m     )\n\u001b[0;32m    438\u001b[0m \u001b[38;5;66;03m# Create Figure for plotting:\u001b[39;00m\n\u001b[1;32m--> 439\u001b[0m p \u001b[38;5;241m=\u001b[39m figure(\u001b[38;5;241m*\u001b[39m\u001b[38;5;241m*\u001b[39mfigure_options)\n\u001b[0;32m    440\u001b[0m \u001b[38;5;28;01mif\u001b[39;00m \u001b[38;5;124m\"\u001b[39m\u001b[38;5;124mx_axis_type\u001b[39m\u001b[38;5;124m\"\u001b[39m \u001b[38;5;129;01mnot\u001b[39;00m \u001b[38;5;129;01min\u001b[39;00m figure_options:\n\u001b[0;32m    441\u001b[0m     figure_options[\u001b[38;5;124m\"\u001b[39m\u001b[38;5;124mx_axis_type\u001b[39m\u001b[38;5;124m\"\u001b[39m] \u001b[38;5;241m=\u001b[39m \u001b[38;5;28;01mNone\u001b[39;00m\n",
      "File \u001b[1;32mD:\\Users\\aleks\\miniconda3\\lib\\site-packages\\bokeh\\plotting\\_figure.py:195\u001b[0m, in \u001b[0;36mfigure.__init__\u001b[1;34m(self, *arg, **kw)\u001b[0m\n\u001b[0;32m    193\u001b[0m \u001b[38;5;28;01mfor\u001b[39;00m name \u001b[38;5;129;01min\u001b[39;00m kw\u001b[38;5;241m.\u001b[39mkeys():\n\u001b[0;32m    194\u001b[0m     \u001b[38;5;28;01mif\u001b[39;00m name \u001b[38;5;129;01mnot\u001b[39;00m \u001b[38;5;129;01min\u001b[39;00m names:\n\u001b[1;32m--> 195\u001b[0m         \u001b[38;5;28;43mself\u001b[39;49m\u001b[38;5;241;43m.\u001b[39;49m\u001b[43m_raise_attribute_error_with_matches\u001b[49m\u001b[43m(\u001b[49m\u001b[43mname\u001b[49m\u001b[43m,\u001b[49m\u001b[43m \u001b[49m\u001b[43mnames\u001b[49m\u001b[43m \u001b[49m\u001b[38;5;241;43m|\u001b[39;49m\u001b[43m \u001b[49m\u001b[43mopts\u001b[49m\u001b[38;5;241;43m.\u001b[39;49m\u001b[43mproperties\u001b[49m\u001b[43m(\u001b[49m\u001b[43m)\u001b[49m\u001b[43m)\u001b[49m\n\u001b[0;32m    197\u001b[0m \u001b[38;5;28msuper\u001b[39m()\u001b[38;5;241m.\u001b[39m\u001b[38;5;21m__init__\u001b[39m(\u001b[38;5;241m*\u001b[39marg, \u001b[38;5;241m*\u001b[39m\u001b[38;5;241m*\u001b[39mkw)\n\u001b[0;32m    199\u001b[0m \u001b[38;5;28mself\u001b[39m\u001b[38;5;241m.\u001b[39mx_range \u001b[38;5;241m=\u001b[39m get_range(opts\u001b[38;5;241m.\u001b[39mx_range)\n",
      "File \u001b[1;32mD:\\Users\\aleks\\miniconda3\\lib\\site-packages\\bokeh\\core\\has_props.py:375\u001b[0m, in \u001b[0;36mHasProps._raise_attribute_error_with_matches\u001b[1;34m(self, name, properties)\u001b[0m\n\u001b[0;32m    372\u001b[0m \u001b[38;5;28;01mif\u001b[39;00m \u001b[38;5;129;01mnot\u001b[39;00m matches:\n\u001b[0;32m    373\u001b[0m     matches, text \u001b[38;5;241m=\u001b[39m \u001b[38;5;28msorted\u001b[39m(properties), \u001b[38;5;124m\"\u001b[39m\u001b[38;5;124mpossible\u001b[39m\u001b[38;5;124m\"\u001b[39m\n\u001b[1;32m--> 375\u001b[0m \u001b[38;5;28;01mraise\u001b[39;00m \u001b[38;5;167;01mAttributeError\u001b[39;00m(\u001b[38;5;124mf\u001b[39m\u001b[38;5;124m\"\u001b[39m\u001b[38;5;124munexpected attribute \u001b[39m\u001b[38;5;132;01m{\u001b[39;00mname\u001b[38;5;132;01m!r}\u001b[39;00m\u001b[38;5;124m to \u001b[39m\u001b[38;5;132;01m{\u001b[39;00m\u001b[38;5;28mself\u001b[39m\u001b[38;5;241m.\u001b[39m\u001b[38;5;18m__class__\u001b[39m\u001b[38;5;241m.\u001b[39m\u001b[38;5;18m__name__\u001b[39m\u001b[38;5;132;01m}\u001b[39;00m\u001b[38;5;124m, \u001b[39m\u001b[38;5;132;01m{\u001b[39;00mtext\u001b[38;5;132;01m}\u001b[39;00m\u001b[38;5;124m attributes are \u001b[39m\u001b[38;5;132;01m{\u001b[39;00mnice_join(matches)\u001b[38;5;132;01m}\u001b[39;00m\u001b[38;5;124m\"\u001b[39m)\n",
      "\u001b[1;31mAttributeError\u001b[0m: unexpected attribute 'plot_width' to figure, similar attributes are outer_width, width or min_width"
     ]
    }
   ],
   "source": [
    "from sklearn.datasets import load_wine\n",
    "import pandas_bokeh\n",
    "import panel as pn\n",
    "import pandas as pd\n",
    "def load_data():\n",
    "    wine = load_wine()\n",
    "    wine_df = pd.DataFrame(wine.data, columns=wine.feature_names)\n",
    "    wine_df[\"WineType\"] = [wine.target_names[t] for t in wine.target]\n",
    "    return wine_df\n",
    "\n",
    "wine_df = load_data()\n",
    "ingredients = wine_df.drop(columns=[\"WineType\"]).columns.tolist()\n",
    "\n",
    "avg_wine_df = wine_df.groupby(by=\"WineType\").mean().reset_index()\n",
    "\n",
    "x_axis = pn.widgets.Select(name=\"X-Axis\", options=ingredients)\n",
    "y_axis = pn.widgets.Select(name=\"Y-Axis\", options=ingredients, value=\"malic_acid\")\n",
    "\n",
    "color_encode = pn.widgets.Checkbox(name=\"Color-Encode\", value=False)\n",
    "\n",
    "def create_scatter_chart(x_axis=\"alcohol\", y_axis=\"malic_acid\", color_encode=False):\n",
    "    scatter_fig = wine_df.plot_bokeh.scatter(x=x_axis, y=y_axis, xlabel=x_axis.capitalize(), ylabel=y_axis.capitalize(), category=\"WineType\" if color_encode else None,\n",
    "                                         title=\"{} vs {}\".format(x_axis.capitalize(), y_axis.capitalize()),\n",
    "                                         figsize=(650,500),\n",
    "                                         fontsize_title= 20, fontsize_label=12, show_figure=False)\n",
    "    return scatter_fig\n",
    "\n",
    "first_chart = pn.Column(\n",
    "                        pn.Row(x_axis, y_axis),\n",
    "                        color_encode,\n",
    "                        create_scatter_chart()\n",
    "                    )\n",
    "\n",
    "def update_scatter_chart(event):\n",
    "    first_chart[2].object = create_scatter_chart(x_axis.value, y_axis.value, color_encode.value)\n",
    "\n",
    "x_axis.param.watch(update_scatter_chart, \"value\")\n",
    "y_axis.param.watch(update_scatter_chart, \"value\")\n",
    "color_encode.param.watch(update_scatter_chart, \"value\")\n",
    "\n",
    "multiselect = pn.widgets.MultiSelect(name=\"Ingredients :\", value=[\"alcohol\", \"malic_acid\", \"ash\"], options=ingredients)\n",
    "\n",
    "def create_bar_chart(ingredients):\n",
    "    bar_fig = avg_wine_df.plot_bokeh.bar(x=\"WineType\", y=ingredients,\n",
    "                                        stacked=True,\n",
    "                                        ylabel=\"Avg. Ingredient\", figsize=(500, 500),\n",
    "                                        title=\"Average Ingredients Presence Per Wine Type\",\n",
    "                                        show_figure=False\n",
    "                                        )\n",
    "    return bar_fig\n",
    "\n",
    "second_chart = pn.Column(\n",
    "                            multiselect,\n",
    "                            create_bar_chart([\"alcohol\", \"malic_acid\", \"ash\"])\n",
    "                        )\n",
    "\n",
    "def update_bar_chart(event):\n",
    "    second_chart[1].object = create_bar_chart(multiselect.value)\n",
    "\n",
    "multiselect.param.watch(update_bar_chart, \"value\")\n",
    "\n",
    "dashboard = pn.Row(first_chart, second_chart)\n",
    "\n",
    "dashboard.servable()"
   ]
  },
  {
   "cell_type": "code",
   "execution_count": null,
   "id": "a0445706-5c76-4ae7-946d-d0287c225bc9",
   "metadata": {},
   "outputs": [],
   "source": []
  }
 ],
 "metadata": {
  "kernelspec": {
   "display_name": "Python 3 (ipykernel)",
   "language": "python",
   "name": "python3"
  },
  "language_info": {
   "codemirror_mode": {
    "name": "ipython",
    "version": 3
   },
   "file_extension": ".py",
   "mimetype": "text/x-python",
   "name": "python",
   "nbconvert_exporter": "python",
   "pygments_lexer": "ipython3",
   "version": "3.9.12"
  }
 },
 "nbformat": 4,
 "nbformat_minor": 5
}
